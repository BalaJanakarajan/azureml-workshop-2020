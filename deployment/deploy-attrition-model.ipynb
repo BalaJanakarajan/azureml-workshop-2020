{
 "cells": [
  {
   "cell_type": "code",
   "execution_count": 1,
   "metadata": {},
   "outputs": [
    {
     "name": "stdout",
     "output_type": "stream",
     "text": [
      "{\n",
      "  \"script\": \"train.py\",\n",
      "  \"arguments\": [\n",
      "\n",
      "  ],\n",
      "  \"target\": \"cpu\",\n",
      "  \"framework\": \"Python\",\n",
      "  \"communicator\": \"None\",\n",
      "  \"autoPrepareEnvironment\": true,\n",
      "  \"maxRunDurationSeconds\": null,\n",
      "  \"nodeCount\": 1,\n",
      "  \"environment\": {\n",
      "    \"name\": null,\n",
      "    \"version\": null,\n",
      "    \"environmentVariables\": {\n",
      "      \"EXAMPLE_ENV_VAR\": \"EXAMPLE_VALUE\"\n",
      "    },\n",
      "    \"python\": {\n",
      "      \"userManagedDependencies\": false,\n",
      "      \"interpreterPath\": \"python\",\n",
      "      \"condaDependenciesFile\": \".azureml/conda_dependencies.yml\",\n",
      "      \"baseCondaEnvironment\": null\n",
      "    },\n",
      "    \"docker\": {\n",
      "      \"enabled\": true,\n",
      "      \"baseImage\": \"mcr.microsoft.com/azureml/base:intelmpi2018.3-ubuntu16.04\",\n",
      "      \"sharedVolumes\": true,\n",
      "      \"gpuSupport\": false,\n",
      "      \"shmSize\": \"1g\",\n",
      "      \"arguments\": [\n",
      "\n",
      "      ],\n",
      "      \"baseImageRegistry\": {\n",
      "        \"address\": null,\n",
      "        \"username\": null,\n",
      "        \"password\": null\n",
      "      }\n",
      "    }\n",
      "  },\n",
      "  \"history\": {\n",
      "    \"outputCollection\": true,\n",
      "    \"snapshotProject\": true,\n",
      "    \"directoriesToWatch\": [\n",
      "      \"logs\"\n",
      "    ]\n",
      "  },\n",
      "  \"mpi\": {\n",
      "    \"processCountPerNode\": 1\n",
      "  },\n",
      "  \"dataReferences\": {\n",
      "  },\n",
      "  \"sourceDirectoryDataStore\": null,\n",
      "  \"amlcompute\": {\n",
      "    \"vmSize\": \"STANDARD_D2_V2\",\n",
      "    \"vmPriority\": null,\n",
      "    \"retainCluster\": false,\n",
      "    \"name\": null,\n",
      "    \"clusterMaxNodeCount\": 1\n",
      "  }\n",
      "}\n"
     ]
    }
   ],
   "source": [
    "# see what your run definition looks like\n",
    "with open(\".azureml/explain.runconfig\",\"r\") as f:\n",
    "    print(f.read())"
   ]
  },
  {
   "cell_type": "code",
   "execution_count": 3,
   "metadata": {},
   "outputs": [
    {
     "name": "stdout",
     "output_type": "stream",
     "text": [
      "# Conda environment specification. The dependencies defined in this file will\n",
      "# be automatically provisioned for runs with userManagedDependencies=False.\n",
      "\n",
      "# Details about the Conda environment file format:\n",
      "# https://conda.io/docs/user-guide/tasks/manage-environments.html#create-env-file-manually\n",
      "\n",
      "name: project_environment\n",
      "dependencies:\n",
      "  # The python interpreter version.\n",
      "  # Currently Azure ML only supports 3.5.2 and later.\n",
      "- python=3.6.2\n",
      "\n",
      "- pip:\n",
      "  - --index-url https://azuremlsdktestpypi.azureedge.net/AzureML-Contrib-Explain-Model-Gated/3010237\n",
      "  - --extra-index-url https://pypi.python.org/simple\n",
      "  - sklearn_pandas\n",
      "  - azureml-defaults<0.1.50\n",
      "  - azureml-contrib-explain-model<0.1.50\n",
      "  - azureml-core<0.1.50\n",
      "  - azureml-telemetry<0.1.50\n",
      "  - azureml-explain-model<0.1.50\n",
      "- scikit-learn\n",
      "\n"
     ]
    }
   ],
   "source": [
    "# see what your package dependencies looks like\n",
    "with open(\".azureml/conda_dependencies.yml\",\"r\") as f:\n",
    "    print(f.read())"
   ]
  },
  {
   "cell_type": "code",
   "execution_count": 21,
   "metadata": {},
   "outputs": [],
   "source": [
    "from azureml.core import Environment\n",
    "from azureml.core.conda_dependencies import CondaDependencies\n",
    "\n",
    "myenv = Environment(\"myenv\")\n",
    "\n",
    "myenv.docker.enabled = True\n",
    "myenv.python.conda_dependencies = CondaDependencies.create(conda_packages=['scikit-learn','pandas'], pip_packages=['sklearn-pandas','azureml-defaults'])"
   ]
  },
  {
   "cell_type": "code",
   "execution_count": 22,
   "metadata": {},
   "outputs": [
    {
     "data": {
      "application/vnd.jupyter.widget-view+json": {
       "model_id": "5230a456c88344c2b386f0673973640d",
       "version_major": 2,
       "version_minor": 0
      },
      "text/plain": [
       "_UserRunWidget(widget_settings={'childWidgetDisplay': 'popup', 'send_telemetry': False, 'log_level': 'INFO', '…"
      ]
     },
     "metadata": {},
     "output_type": "display_data"
    }
   ],
   "source": [
    "#submit and monitor a run\n",
    "from azureml.core import RunConfiguration, Experiment, Run\n",
    "from azureml.core.script_run_config import ScriptRunConfig\n",
    "from azureml.widgets import RunDetails\n",
    "from azureml.core import Workspace\n",
    "from azureml.core.compute import ComputeTarget, AmlCompute\n",
    "\n",
    "ws = Workspace.from_config()\n",
    "runconfig = RunConfiguration.load('.','explain')\n",
    "src = ScriptRunConfig(source_directory='.',script='train_explain.py')\n",
    "\n",
    "cpu_cluster = ComputeTarget(workspace=ws, name=\"cpucluster3\")\n",
    "\n",
    "src.run_config.target = cpu_cluster.name\n",
    "\n",
    "src.run_config.environment = myenv\n",
    "\n",
    "\n",
    "run = Experiment(ws,'generate-attrition-explainer').submit(config=src)\n",
    "\n",
    "RunDetails(run).show()"
   ]
  },
  {
   "cell_type": "code",
   "execution_count": 18,
   "metadata": {},
   "outputs": [],
   "source": [
    "#!jupyter nbextension install  --py --user azureml.contrib.explain.model.visualize\n",
    "#!jupyter nbextension enable  --py --user azureml.contrib.explain.model.visualize\n",
    "#!source activate py36 && jupyter nbextension list"
   ]
  },
  {
   "cell_type": "code",
   "execution_count": 17,
   "metadata": {},
   "outputs": [
    {
     "data": {
      "application/vnd.jupyter.widget-view+json": {
       "model_id": "e8bc1485351f4f55a6709a73b75d68da",
       "version_major": 2,
       "version_minor": 0
      },
      "text/plain": [
       "ExplanationWidget(value={'localExplanations': [[[0.011139991333791295, 0.0, 0.002154231393631467, 0.0, 0.00718…"
      ]
     },
     "metadata": {},
     "output_type": "display_data"
    },
    {
     "data": {
      "text/plain": [
       "<azureml.contrib.explain.model.visualize.ExplanationDashboard.ExplanationDashboard at 0x7f5b9430ff60>"
      ]
     },
     "execution_count": 17,
     "metadata": {},
     "output_type": "execute_result"
    }
   ],
   "source": [
    "from azureml.contrib.explain.model.visualize import ExplanationDashboard\n",
    "from azureml.contrib.explain.model.explanation.explanation_client import ExplanationClient\n",
    "from azureml.core.model import Model\n",
    "from sklearn.externals import joblib\n",
    "\n",
    "original_model = Model(ws, 'IBM_attrition_model')\n",
    "model_path = original_model.download(exist_ok=True)\n",
    "\n",
    "client = ExplanationClient.from_run(run)\n",
    "global_explanation = client.download_model_explanation()\n",
    "attrition_model = joblib.load(model_path)\n",
    "\n",
    "x_test_path = './x_test.pkl'\n",
    "run.download_file('x_test_ibm.pkl', output_file_path=x_test_path)\n",
    "\n",
    "x_test = joblib.load(x_test_path)\n",
    "\n",
    "ExplanationDashboard(global_explanation, attrition_model, x_test)"
   ]
  },
  {
   "cell_type": "code",
   "execution_count": 30,
   "metadata": {},
   "outputs": [
    {
     "name": "stdout",
     "output_type": "stream",
     "text": [
      "import pandas as pd\n",
      "from sklearn.externals import joblib\n",
      "from azureml.core.model import Model\n",
      "\n",
      "def init():\n",
      "\n",
      "    global original_model\n",
      "    # global scoring_explainer\n",
      "\n",
      "    # Retrieve the path to the model file using the model name\n",
      "    # Assume original model is named original_prediction_model\n",
      "    original_model_path = Model.get_model_path('IBM_attrition_model')\n",
      "    # scoring_explainer_path = Model.get_model_path('IBM_attrition_explainer')\n",
      "\n",
      "    original_model = joblib.load(original_model_path)\n",
      "    # scoring_explainer = joblib.load(scoring_explainer_path)\n",
      "\n",
      "def run(raw_data):\n",
      "    # Get predictions and explanations for each data point\n",
      "    data = pd.read_json(raw_data)\n",
      "    # Make prediction\n",
      "    predictions = original_model.predict(data)\n",
      "    # Retrieve model explanations\n",
      "    # local_importance_values = scoring_explainer.explain(data)\n",
      "    # You can return any data type as long as it is JSON-serializable\n",
      "    # return {'predictions': predictions.tolist(), 'local_importance_values': local_importance_values}\n",
      "    return {'predictions': predictions.tolist()}\n",
      "\n"
     ]
    }
   ],
   "source": [
    "#see what your score file looks like\n",
    "with open(\"score.py\",\"r\") as f:\n",
    "    print(f.read())"
   ]
  },
  {
   "cell_type": "code",
   "execution_count": 33,
   "metadata": {},
   "outputs": [
    {
     "name": "stdout",
     "output_type": "stream",
     "text": [
      "name: project_environment\n",
      "dependencies:\n",
      "- python=3.6.2\n",
      "\n",
      "- pip:\n",
      "  - --extra-index-url https://pypi.python.org/simple\n",
      "  - sklearn-pandas\n",
      "  - azureml-defaults\n",
      "  - azureml-core\n",
      "  - azureml-telemetry\n",
      "- scikit-learn\n",
      "- pandas\n",
      "\n"
     ]
    }
   ],
   "source": [
    "with open(\"myenv.yml\",\"r\") as f:\n",
    "    print(f.read())"
   ]
  },
  {
   "cell_type": "code",
   "execution_count": 34,
   "metadata": {},
   "outputs": [
    {
     "name": "stdout",
     "output_type": "stream",
     "text": [
      "Creating image\n",
      "Running...........................................................\n",
      "Succeeded\n",
      "Image creation operation finished for image predictattritionsvc1:1, operation \"Succeeded\"\n"
     ]
    }
   ],
   "source": [
    "#deploy\n",
    "from azureml.core import Workspace\n",
    "from azureml.core.webservice import AciWebservice\n",
    "from azureml.core.model import InferenceConfig, Model\n",
    "\n",
    "ws = Workspace.from_config()\n",
    "\n",
    "# scoring_explainer_model = Model(ws, 'IBM_attrition_explainer')\n",
    "attrition_model = Model(ws, 'IBM_attrition_model')\n",
    "\n",
    "aciconfig = AciWebservice.deploy_configuration(cpu_cores=1, \n",
    "                                               memory_gb=1, \n",
    "                                               tags={\"data\": \"IBM_Attrition\",  \n",
    "                                                     \"method\" : \"local_explanation\"}, \n",
    "                                               description='Explain predictions on employee attrition')\n",
    "                                               \n",
    "inference_config = InferenceConfig(entry_script='score.py', \n",
    "                                   extra_docker_file_steps='Dockerfile', \n",
    "                                   runtime='python', \n",
    "                                   conda_file='myenv.yml')\n",
    "\n",
    "# service = Model.deploy(ws, name='predictattritionsvc', models=[scoring_explainer_model, attrition_model], inference_config= inference_config, deployment_config=aciconfig)\n",
    "service = Model.deploy(ws, name='predictattritionsvc1', models=[attrition_model], inference_config= inference_config, deployment_config=aciconfig)"
   ]
  },
  {
   "cell_type": "code",
   "execution_count": 38,
   "metadata": {},
   "outputs": [
    {
     "name": "stdout",
     "output_type": "stream",
     "text": [
      "http://ee542215-259e-4f4f-9b9b-0e946a53b492.eastus.azurecontainer.io/score\n",
      "prediction: {\"predictions\": [0]}\n"
     ]
    }
   ],
   "source": [
    "# get URI for querying\n",
    "from azureml.core.webservice import AciWebservice\n",
    "import requests\n",
    "import json\n",
    "\n",
    "# sample = '{\"Age\":{\"899\":49},\"BusinessTravel\":{\"899\":\"Travel_Rarely\"},\"DailyRate\":{\"899\":1098},\"Department\":{\"899\":\"Research & Development\"},\"DistanceFromHome\":{\"899\":4},\"Education\":{\"899\":2},\"EducationField\":{\"899\":\"Medical\"},\"EnvironmentSatisfaction\":{\"899\":4},\"Gender\":{\"899\":\"Female\"},\"HourlyRate\":{\"899\":21},\"JobInvolvement\":{\"899\":3},\"JobLevel\":{\"899\":2},\"JobRole\":{\"899\":\"Laboratory Technician\"},\"JobSatisfaction\":{\"899\":3},\"MaritalStatus\":{\"899\":\"Single\"},\"MonthlyIncome\":{\"899\":711},\"MonthlyRate\":{\"899\":2124},\"NumCompaniesWorked\":{\"899\":7},\"OverTime\":{\"899\":\"Yes\"},\"PercentSalaryHike\":{\"899\":8},\"PerformanceRating\":{\"899\":4},\"RelationshipSatisfaction\":{\"899\":3},\"StockOptionLevel\":{\"899\":0},\"TotalWorkingYears\":{\"899\":2},\"TrainingTimesLastYear\":{\"899\":0},\"WorkLifeBalance\":{\"899\":3},\"YearsAtCompany\":{\"899\":1},\"YearsInCurrentRole\":{\"899\":0},\"YearsSinceLastPromotion\":{\"899\":0},\"YearsWithCurrManager\":{\"899\":0}}'\n",
    "\n",
    "sample = '{\"Age\":{\"899\":49},\"BusinessTravel\":{\"899\":\"Travel_Rarely\"},\"DailyRate\":{\"899\":1098},\"Department\":{\"899\":\"Research & Development\"},\"DistanceFromHome\":{\"899\":4},\"Education\":{\"899\":2},\"EducationField\":{\"899\":\"Medical\"},\"EnvironmentSatisfaction\":{\"899\":1},\"Gender\":{\"899\":\"Male\"},\"HourlyRate\":{\"899\":85},\"JobInvolvement\":{\"899\":2},\"JobLevel\":{\"899\":5},\"JobRole\":{\"899\":\"Manager\"},\"JobSatisfaction\":{\"899\":3},\"MaritalStatus\":{\"899\":\"Married\"},\"MonthlyIncome\":{\"899\":18711},\"MonthlyRate\":{\"899\":12124},\"NumCompaniesWorked\":{\"899\":2},\"OverTime\":{\"899\":\"No\"},\"PercentSalaryHike\":{\"899\":13},\"PerformanceRating\":{\"899\":3},\"RelationshipSatisfaction\":{\"899\":3},\"StockOptionLevel\":{\"899\":1},\"TotalWorkingYears\":{\"899\":23},\"TrainingTimesLastYear\":{\"899\":2},\"WorkLifeBalance\":{\"899\":4},\"YearsAtCompany\":{\"899\":1},\"YearsInCurrentRole\":{\"899\":0},\"YearsSinceLastPromotion\":{\"899\":0},\"YearsWithCurrManager\":{\"899\":0}}'\n",
    "\n",
    "service = AciWebservice(ws,\"predictattritionsvc1\")\n",
    "print(service.scoring_uri)\n",
    "\n",
    "headers = {'Content-Type':'application/json'}\n",
    "\n",
    "# send request to service\n",
    "resp = requests.post(service.scoring_uri, sample, headers=headers)\n",
    "print(\"prediction:\", resp.text)\n",
    "result = json.loads(resp.text)\n",
    "\n",
    "#plot the feature importance for the prediction\n",
    "# import numpy as np\n",
    "# import matplotlib.pyplot as plt; plt.rcdefaults()\n",
    "# import json\n",
    "\n",
    "# labels = json.loads(sample)\n",
    "# labels = labels.keys()\n",
    "# objects = labels\n",
    "# y_pos = np.arange(len(objects))\n",
    "# performance = result[\"local_importance_values\"][0][0]\n",
    "\n",
    "# plt.bar(y_pos, performance, align='center', alpha=0.5)\n",
    "# plt.xticks(y_pos, objects)\n",
    "# locs, labels = plt.xticks()\n",
    "# plt.setp(labels, rotation=90)\n",
    "# plt.ylabel('Feature impact - leaving vs not leaving')\n",
    "# plt.title('Local feature importance for prediction')\n",
    "\n",
    "# plt.show()"
   ]
  },
  {
   "cell_type": "code",
   "execution_count": null,
   "metadata": {},
   "outputs": [],
   "source": []
  }
 ],
 "metadata": {
  "kernelspec": {
   "display_name": "Python [conda env:myenv]",
   "language": "python",
   "name": "conda-env-myenv-py"
  },
  "language_info": {
   "codemirror_mode": {
    "name": "ipython",
    "version": 3
   },
   "file_extension": ".py",
   "mimetype": "text/x-python",
   "name": "python",
   "nbconvert_exporter": "python",
   "pygments_lexer": "ipython3",
   "version": "3.6.6"
  }
 },
 "nbformat": 4,
 "nbformat_minor": 2
}
